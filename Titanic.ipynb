{
 "cells": [
  {
   "cell_type": "markdown",
   "metadata": {},
   "source": [
    "# Investigating a Dataset- The Titanic Dataset"
   ]
  },
  {
   "cell_type": "markdown",
   "metadata": {},
   "source": [
    "## Overview"
   ]
  },
  {
   "cell_type": "markdown",
   "metadata": {},
   "source": [
    "This report is based on the sample of the Titanic dataset provided by Kaggle. The report will analyse the passenger and demographic information in python using its numpy and pandas libraries. \n",
    "\n",
    "Before I can pose any questions, I need to take a look at the data set by initially loading it into a pandas dataframe."
   ]
  },
  {
   "cell_type": "code",
   "execution_count": 28,
   "metadata": {
    "collapsed": false
   },
   "outputs": [],
   "source": [
    "import pandas as pd\n",
    "import numpy as np\n",
    "\n",
    "df = pd.read_csv('titanic_data.csv', header = 0)"
   ]
  },
  {
   "cell_type": "code",
   "execution_count": 29,
   "metadata": {
    "collapsed": false
   },
   "outputs": [
    {
     "name": "stdout",
     "output_type": "stream",
     "text": [
      "   PassengerId  Survived  Pclass  \\\n",
      "0            1         0       3   \n",
      "1            2         1       1   \n",
      "2            3         1       3   \n",
      "3            4         1       1   \n",
      "4            5         0       3   \n",
      "\n",
      "                                                Name     Sex  Age  SibSp  \\\n",
      "0                            Braund, Mr. Owen Harris    male   22      1   \n",
      "1  Cumings, Mrs. John Bradley (Florence Briggs Th...  female   38      1   \n",
      "2                             Heikkinen, Miss. Laina  female   26      0   \n",
      "3       Futrelle, Mrs. Jacques Heath (Lily May Peel)  female   35      1   \n",
      "4                           Allen, Mr. William Henry    male   35      0   \n",
      "\n",
      "   Parch            Ticket     Fare Cabin Embarked  \n",
      "0      0         A/5 21171   7.2500   NaN        S  \n",
      "1      0          PC 17599  71.2833   C85        C  \n",
      "2      0  STON/O2. 3101282   7.9250   NaN        S  \n",
      "3      0            113803  53.1000  C123        S  \n",
      "4      0            373450   8.0500   NaN        S  \n"
     ]
    }
   ],
   "source": [
    "print df.head(5)"
   ]
  },
  {
   "cell_type": "markdown",
   "metadata": {},
   "source": [
    "The data appears to have been read correctly into the 'df' dataframe."
   ]
  },
  {
   "cell_type": "code",
   "execution_count": 30,
   "metadata": {
    "collapsed": false
   },
   "outputs": [
    {
     "name": "stdout",
     "output_type": "stream",
     "text": [
      "PassengerId      int64\n",
      "Survived         int64\n",
      "Pclass           int64\n",
      "Name            object\n",
      "Sex             object\n",
      "Age            float64\n",
      "SibSp            int64\n",
      "Parch            int64\n",
      "Ticket          object\n",
      "Fare           float64\n",
      "Cabin           object\n",
      "Embarked        object\n",
      "dtype: object\n"
     ]
    }
   ],
   "source": [
    "print df.dtypes"
   ]
  },
  {
   "cell_type": "markdown",
   "metadata": {},
   "source": [
    "The data types are as expected, however further investigation is required to ensure that there are no erroneous or missing values within these columns.\n",
    "\n",
    "At this point I would like to add the the Parch (number of parents and children) column and SibSp (number of siblings and spouses) column to give total family values for each passenger."
   ]
  },
  {
   "cell_type": "code",
   "execution_count": 31,
   "metadata": {
    "collapsed": true
   },
   "outputs": [],
   "source": [
    "df['total_family']=df.SibSp + df.Parch "
   ]
  },
  {
   "cell_type": "code",
   "execution_count": 32,
   "metadata": {
    "collapsed": false
   },
   "outputs": [
    {
     "name": "stdout",
     "output_type": "stream",
     "text": [
      "<class 'pandas.core.frame.DataFrame'>\n",
      "Int64Index: 891 entries, 0 to 890\n",
      "Data columns (total 13 columns):\n",
      "PassengerId     891 non-null int64\n",
      "Survived        891 non-null int64\n",
      "Pclass          891 non-null int64\n",
      "Name            891 non-null object\n",
      "Sex             891 non-null object\n",
      "Age             714 non-null float64\n",
      "SibSp           891 non-null int64\n",
      "Parch           891 non-null int64\n",
      "Ticket          891 non-null object\n",
      "Fare            891 non-null float64\n",
      "Cabin           204 non-null object\n",
      "Embarked        889 non-null object\n",
      "total_family    891 non-null int64\n",
      "dtypes: float64(2), int64(6), object(5)\n",
      "memory usage: 97.5+ KB\n",
      "None\n"
     ]
    }
   ],
   "source": [
    "print df.info()"
   ]
  },
  {
   "cell_type": "markdown",
   "metadata": {},
   "source": [
    "Most columns contain complete data. The exceptions are Age, Cabin and Embarked. "
   ]
  },
  {
   "cell_type": "code",
   "execution_count": 33,
   "metadata": {
    "collapsed": false
   },
   "outputs": [
    {
     "name": "stdout",
     "output_type": "stream",
     "text": [
      "       PassengerId    Survived      Pclass         Age       SibSp  \\\n",
      "count   891.000000  891.000000  891.000000  714.000000  891.000000   \n",
      "mean    446.000000    0.383838    2.308642   29.699118    0.523008   \n",
      "std     257.353842    0.486592    0.836071   14.526497    1.102743   \n",
      "min       1.000000    0.000000    1.000000    0.420000    0.000000   \n",
      "25%     223.500000    0.000000    2.000000   20.125000    0.000000   \n",
      "50%     446.000000    0.000000    3.000000   28.000000    0.000000   \n",
      "75%     668.500000    1.000000    3.000000   38.000000    1.000000   \n",
      "max     891.000000    1.000000    3.000000   80.000000    8.000000   \n",
      "\n",
      "            Parch        Fare  total_family  \n",
      "count  891.000000  891.000000    891.000000  \n",
      "mean     0.381594   32.204208      0.904602  \n",
      "std      0.806057   49.693429      1.613459  \n",
      "min      0.000000    0.000000      0.000000  \n",
      "25%      0.000000    7.910400      0.000000  \n",
      "50%      0.000000   14.454200      0.000000  \n",
      "75%      0.000000   31.000000      1.000000  \n",
      "max      6.000000  512.329200     10.000000  \n"
     ]
    }
   ],
   "source": [
    "print df.describe()"
   ]
  },
  {
   "cell_type": "markdown",
   "metadata": {},
   "source": [
    "From the summary data above, the mean survival rate is 0.38, implying that most people did not survive. The average age of the passengers was 29.7 (ignoring missing values) and there appears to have been some large families on board.\n",
    "\n",
    "Going through the data in order to look for any erroneous values or outliers:\n",
    "\n",
    "1. Survived - entries are either 0 or 1 (and I know this column is of type 'int')\n",
    "2. Pclass - min 1, max 3 (and I know this column is of type 'int')\n",
    "3. Age - the range seems reasonable\n",
    "4. SibSp, Parch and total_family - again, the range seems reasonable\n",
    "5. Fare - It looks as though someone paid $512 to be on board however this may be an error.\n",
    "\n",
    "Aside from the fare column, the data looks to be in good shape."
   ]
  },
  {
   "cell_type": "markdown",
   "metadata": {},
   "source": [
    "### Data Wrangling"
   ]
  },
  {
   "cell_type": "markdown",
   "metadata": {},
   "source": [
    "Since I may require the Age column as part of my analysis, and since there are missing values in this column, I will need to clean the data up before I can begin my analysis.\n",
    "\n",
    "Here, I can either replace the missing Age entries or delete them.\n",
    "\n",
    "I will initially look at the spread of the data."
   ]
  },
  {
   "cell_type": "code",
   "execution_count": 34,
   "metadata": {
    "collapsed": false
   },
   "outputs": [
    {
     "name": "stdout",
     "output_type": "stream",
     "text": [
      "Populating the interactive namespace from numpy and matplotlib\n"
     ]
    },
    {
     "data": {
      "text/plain": [
       "<function matplotlib.pyplot.show>"
      ]
     },
     "execution_count": 34,
     "metadata": {},
     "output_type": "execute_result"
    },
    {
     "data": {
      "image/png": "[encoded data removed]",
      "text/plain": [
       "<matplotlib.figure.Figure at 0x203053c8>"
      ]
     },
     "metadata": {},
     "output_type": "display_data"
    }
   ],
   "source": [
    "%pylab inline\n",
    "import matplotlib.pyplot as plt\n",
    "import seaborn as sns\n",
    "\n",
    "df['Age'].hist()\n",
    "plt.xlabel('Passenger Age')\n",
    "plt.ylabel('Frequency')\n",
    "plt.title('Distribution of Passenger Age')\n",
    "plt.show"
   ]
  },
  {
   "cell_type": "markdown",
   "metadata": {},
   "source": [
    "Looking at the above histogram (and taking the standard deviation of the age into account), the data is reasonably well spread out. \n",
    "\n",
    "I could replace the missing entries with the mean however I do not want the assumption I have placed on the missing 'Age' data to affect my findings, it may not be a reasonable assumption to make due to the fact that the data is spread out. Removing the missing data will still leave me with most of the data left for my analysis.\n",
    "\n",
    "I will therefore create a new dataframe excluding the missing 'Age' data. This dataframe should contain 714 entries."
   ]
  },
  {
   "cell_type": "code",
   "execution_count": 35,
   "metadata": {
    "collapsed": false
   },
   "outputs": [],
   "source": [
    "new_df = df.dropna(subset=['Age'])"
   ]
  },
  {
   "cell_type": "code",
   "execution_count": 36,
   "metadata": {
    "collapsed": false
   },
   "outputs": [
    {
     "name": "stdout",
     "output_type": "stream",
     "text": [
      "<class 'pandas.core.frame.DataFrame'>\n",
      "Int64Index: 714 entries, 0 to 890\n",
      "Data columns (total 13 columns):\n",
      "PassengerId     714 non-null int64\n",
      "Survived        714 non-null int64\n",
      "Pclass          714 non-null int64\n",
      "Name            714 non-null object\n",
      "Sex             714 non-null object\n",
      "Age             714 non-null float64\n",
      "SibSp           714 non-null int64\n",
      "Parch           714 non-null int64\n",
      "Ticket          714 non-null object\n",
      "Fare            714 non-null float64\n",
      "Cabin           185 non-null object\n",
      "Embarked        712 non-null object\n",
      "total_family    714 non-null int64\n",
      "dtypes: float64(2), int64(6), object(5)\n",
      "memory usage: 78.1+ KB\n",
      "None\n"
     ]
    }
   ],
   "source": [
    "print new_df.info()"
   ]
  },
  {
   "cell_type": "code",
   "execution_count": 37,
   "metadata": {
    "collapsed": false
   },
   "outputs": [
    {
     "name": "stdout",
     "output_type": "stream",
     "text": [
      "       PassengerId    Survived      Pclass         Age       SibSp  \\\n",
      "count   714.000000  714.000000  714.000000  714.000000  714.000000   \n",
      "mean    448.582633    0.406162    2.236695   29.699118    0.512605   \n",
      "std     259.119524    0.491460    0.838250   14.526497    0.929783   \n",
      "min       1.000000    0.000000    1.000000    0.420000    0.000000   \n",
      "25%     222.250000    0.000000    1.000000   20.125000    0.000000   \n",
      "50%     445.000000    0.000000    2.000000   28.000000    0.000000   \n",
      "75%     677.750000    1.000000    3.000000   38.000000    1.000000   \n",
      "max     891.000000    1.000000    3.000000   80.000000    5.000000   \n",
      "\n",
      "            Parch        Fare  total_family  \n",
      "count  714.000000  714.000000    714.000000  \n",
      "mean     0.431373   34.694514      0.943978  \n",
      "std      0.853289   52.918930      1.483788  \n",
      "min      0.000000    0.000000      0.000000  \n",
      "25%      0.000000    8.050000      0.000000  \n",
      "50%      0.000000   15.741700      0.000000  \n",
      "75%      1.000000   33.375000      1.000000  \n",
      "max      6.000000  512.329200      7.000000  \n"
     ]
    }
   ],
   "source": [
    "print new_df.describe()"
   ]
  },
  {
   "cell_type": "markdown",
   "metadata": {},
   "source": [
    "## Analysis"
   ]
  },
  {
   "cell_type": "markdown",
   "metadata": {},
   "source": [
    "The key question for the titanic dataset would be 'what factors made people more likely to survive'?\n",
    "From this dataset the following factors will be examined:\n",
    "1. Sex\n",
    "2. Age\n",
    "3. Class of travel\n",
    "4. Since information on families is available, the survival rate for a person travelling with family will also be examined.\n",
    "\n",
    "I will examine the average survival rate between the variables in each category. Since Sex and Class of travel do not require grouping, they will need similar code for the analysis. I can therefore create two functions I will call for the two factors."
   ]
  },
  {
   "cell_type": "code",
   "execution_count": 38,
   "metadata": {
    "collapsed": true
   },
   "outputs": [],
   "source": [
    "def average_survival_rate(factor):\n",
    "    return new_df.groupby(factor).mean()['Survived']"
   ]
  },
  {
   "cell_type": "code",
   "execution_count": 39,
   "metadata": {
    "collapsed": true
   },
   "outputs": [],
   "source": [
    "def average_survival_chart(factor,title):\n",
    "    new_df.groupby(factor).mean()['Survived'].plot(kind='bar')\n",
    "    plt.title(title)\n",
    "    plt.ylabel('Survival Rate')\n",
    "    plt.show()"
   ]
  },
  {
   "cell_type": "markdown",
   "metadata": {},
   "source": [
    "### Examining the Data: Gender"
   ]
  },
  {
   "cell_type": "markdown",
   "metadata": {},
   "source": [
    "Looking at which Gender was more likely to survive:"
   ]
  },
  {
   "cell_type": "code",
   "execution_count": 40,
   "metadata": {
    "collapsed": false
   },
   "outputs": [
    {
     "name": "stdout",
     "output_type": "stream",
     "text": [
      "Sex\n",
      "female    0.754789\n",
      "male      0.205298\n",
      "Name: Survived, dtype: float64\n"
     ]
    },
    {
     "data": {
      "image/png": "[encoded data removed]",
      "text/plain": [
       "<matplotlib.figure.Figure at 0x1ddbca90>"
      ]
     },
     "metadata": {},
     "output_type": "display_data"
    }
   ],
   "source": [
    "print average_survival_rate('Sex')\n",
    "average_survival_chart('Sex','Average Survival Rate by Gender')"
   ]
  },
  {
   "cell_type": "markdown",
   "metadata": {},
   "source": [
    "This shows that from our subset of data, 75% of females survived, and only 20% of males survived.\n",
    "this can also be run for our original dataframe:"
   ]
  },
  {
   "cell_type": "code",
   "execution_count": 41,
   "metadata": {
    "collapsed": false
   },
   "outputs": [
    {
     "name": "stdout",
     "output_type": "stream",
     "text": [
      "Sex\n",
      "female    0.742038\n",
      "male      0.188908\n",
      "Name: Survived, dtype: float64\n"
     ]
    }
   ],
   "source": [
    "print df.groupby('Sex').mean()['Survived']"
   ]
  },
  {
   "cell_type": "markdown",
   "metadata": {},
   "source": [
    "This shows similar ratios."
   ]
  },
  {
   "cell_type": "markdown",
   "metadata": {},
   "source": [
    "### Examining the Data: Age"
   ]
  },
  {
   "cell_type": "markdown",
   "metadata": {},
   "source": [
    "Now to look at the age of survivors vs the age of people who didnt survive. Firstly I'd like to look at a box plot to show the spread, mean, mediun and mode of the passengers in the dataframe."
   ]
  },
  {
   "cell_type": "code",
   "execution_count": 42,
   "metadata": {
    "collapsed": false
   },
   "outputs": [
    {
     "data": {
      "text/plain": [
       "<function matplotlib.pyplot.show>"
      ]
     },
     "execution_count": 42,
     "metadata": {},
     "output_type": "execute_result"
    },
    {
     "data": {
      "image/png": "[encoded data removed]",
      "text/plain": [
       "<matplotlib.figure.Figure at 0x20e22710>"
      ]
     },
     "metadata": {},
     "output_type": "display_data"
    }
   ],
   "source": [
    "new_df.boxplot(column = 'Age',return_type='axes',vert=False)\n",
    "plt.title('Boxplot for Passenger Age')\n",
    "plt.xlabel('Age')\n",
    "plt.show\n"
   ]
  },
  {
   "cell_type": "markdown",
   "metadata": {},
   "source": [
    "Next I'd like to look at the mean age of survivors vs non-survivors and I will also show two histograms. The first showing the distribution of the age of the survivors, the second showing the distribution of the age of those that didnt survive."
   ]
  },
  {
   "cell_type": "code",
   "execution_count": 43,
   "metadata": {
    "collapsed": false
   },
   "outputs": [
    {
     "name": "stdout",
     "output_type": "stream",
     "text": [
      "The mean age of survivors was 28.34\n",
      "The mean age of those that did not survive was 30.63\n"
     ]
    },
    {
     "data": {
      "image/png": "[encoded data removed]",
      "text/plain": [
       "<matplotlib.figure.Figure at 0x20b75860>"
      ]
     },
     "metadata": {},
     "output_type": "display_data"
    },
    {
     "data": {
      "image/png": "[encoded data removed]",
      "text/plain": [
       "<matplotlib.figure.Figure at 0x20dcb828>"
      ]
     },
     "metadata": {},
     "output_type": "display_data"
    }
   ],
   "source": [
    "print 'The mean age of survivors was', np.round(new_df['Age'][(new_df['Survived'] == 1)].mean(),2)\n",
    "print 'The mean age of those that did not survive was', np.round(new_df['Age'][(new_df['Survived'] == 0)].mean(),2)\n",
    "\n",
    "survivors_hist = new_df['Age'][(new_df['Survived'] == 1)].hist()\n",
    "plt.title('Frequency Distribution of Age for Passengers Who Survived')\n",
    "plt.xlabel('Age')\n",
    "plt.ylabel('Frequency')\n",
    "show(survivors_hist)\n",
    "\n",
    "\n",
    "nonsurvivors_hist = new_df['Age'][(new_df['Survived'] == 0)].hist()\n",
    "plt.title('Frequency Distribution of Age for Passengers Who Did Not Survive')\n",
    "plt.xlabel('Age')\n",
    "plt.ylabel('Frequency')\n",
    "show(nonsurvivors_hist)\n"
   ]
  },
  {
   "cell_type": "markdown",
   "metadata": {},
   "source": [
    "The histograms and the averages show that older people were less likely to survive.\n",
    "\n",
    "Focussing on the survivors lets look at the average survival rate for each age group. This involves grouping the age data using '.cut'."
   ]
  },
  {
   "cell_type": "code",
   "execution_count": 44,
   "metadata": {
    "collapsed": false
   },
   "outputs": [
    {
     "data": {
      "image/png": "[encoded data removed]",
      "text/plain": [
       "<matplotlib.figure.Figure at 0x20c93b00>"
      ]
     },
     "metadata": {},
     "output_type": "display_data"
    }
   ],
   "source": [
    "age_groups = new_df.groupby(pd.cut(new_df.Age,8,precision=1))\n",
    "age_groups.mean()['Survived'].plot(kind='bar')\n",
    "plt.ylabel('Survival Rate')\n",
    "plt.title('Average Survival Rate for Each Age Group')\n",
    "plt.show()\n"
   ]
  },
  {
   "cell_type": "markdown",
   "metadata": {},
   "source": [
    "The above plot shows that most passengers under the age of 10 survived. The next highest age bracket was actually 30.3-40.2, however survival rates for all other age groups aside from the youngest was low.\n",
    "\n",
    "### Examining the Data: Passenger Class\n",
    "\n",
    "The following bar chart shows the average survival rate by passenger class (Pclass)."
   ]
  },
  {
   "cell_type": "code",
   "execution_count": 45,
   "metadata": {
    "collapsed": false
   },
   "outputs": [
    {
     "name": "stdout",
     "output_type": "stream",
     "text": [
      "Pclass\n",
      "1    0.655914\n",
      "2    0.479769\n",
      "3    0.239437\n",
      "Name: Survived, dtype: float64\n"
     ]
    },
    {
     "data": {
      "image/png": "[encoded data removed]",
      "text/plain": [
       "<matplotlib.figure.Figure at 0x20dea320>"
      ]
     },
     "metadata": {},
     "output_type": "display_data"
    }
   ],
   "source": [
    "print average_survival_rate('Pclass')\n",
    "average_survival_chart('Pclass','Average Survival Rate by Passenger Class')"
   ]
  },
  {
   "cell_type": "markdown",
   "metadata": {},
   "source": [
    "As the above graph and table show, the survival rate for passengers travelling in the first class was significantly higher than the other classes."
   ]
  },
  {
   "cell_type": "markdown",
   "metadata": {},
   "source": [
    "### Examining the Data: Families\n",
    "\n",
    "One final factor I will examine is the survival rate of passengers travelling with their families, and whether the size of the family an individual is travelling with effected their survival rate.\n",
    "\n",
    "There are two columns that give family information, 'siblingsp' which counts siblings and partners and 'parch' with counts parents and children. I added the two columns earlier to give an approximate family size number for each person, however it should be noted, as stated in the variable descriptions this count excludes fiances, mistresses, cousins, aunts and uncles.\n"
   ]
  },
  {
   "cell_type": "code",
   "execution_count": 46,
   "metadata": {
    "collapsed": false
   },
   "outputs": [
    {
     "data": {
      "image/png": "[encoded data removed]",
      "text/plain": [
       "<matplotlib.figure.Figure at 0x1ddc4c50>"
      ]
     },
     "metadata": {},
     "output_type": "display_data"
    }
   ],
   "source": [
    "family_groups = new_df.groupby(pd.cut(new_df.total_family,7,precision=1))\n",
    "family_groups.mean()['Survived'].plot(kind='bar')\n",
    "plt.title('Average Survival Rate by Number of Family Members Travelling With Each Passenger')\n",
    "plt.ylabel('Survival Rate')\n",
    "plt.show()\n",
    "    "
   ]
  },
  {
   "cell_type": "markdown",
   "metadata": {},
   "source": [
    "Couples seem to have the largest survival rate by far."
   ]
  },
  {
   "cell_type": "markdown",
   "metadata": {
    "collapsed": true
   },
   "source": [
    "## Conclusions\n",
    "\n",
    "The analysis above shows that for this particular dataset, females, those under 10 years old, and those travelling in the first class were more likely to survive compared with their respective peers. Also those travelling as part of a couple were more likely to survive. However it should be noted that for this variable, assumptions have been made on the family size, since it excludes extended family.\n",
    "\n",
    "Additionally the analysis itself does have limitations, since this is a sample of the entire data set, from which we have further reduced the dataset for passengers where their age data was missing.\n",
    "\n",
    "Finally, a passenger being a female does not necessarily mean they will survive, and this is true for all other variables examined. The inferences made in this report remain hypothesis as to the factors which could have affected survival rates on the Titanic.\n",
    "\n",
    "One aspect of the investigation that can be tested is my decision to remove passengers with missing age data from the analysis. Are the survival rates significantly different from one another? I will carry out a two proportion z-test to investigate this:\n",
    "\n",
    "H0: s1 = s2\t(Where s1 is the survival rate for the dataset with the missing values and s2 is the survival rate for the dataset with the missing age values removed)\n",
    "\n",
    "H1: s1 ≠ s2\n",
    "\n",
    "As above, the null hypothesis is that there is no significant difference between the survival rate of the complete dataset and the survival rate of the data with the missing age values removed. The alternative hypothesis states that there is a significant difference. \n",
    "\n",
    "I will conduct a two tailed test for alpha level 0.05.\n",
    "\n",
    "s = (s1xn1 + s2xn2)/(n1 + n2) = (0.3838 x 891 + 0.4062 x 714)/(891+714) = 0.3938\n",
    "SE = sqrt(s x (1-s) x [(1/n1)+(1/n2)] = sqrt[0.3938 x 0.6062 x (1/891+1/714)] = 0.0245\n",
    "z = (s1 - s2)/SE = (0.3838 - 0.4062)/0.0245 = -0.9128\n",
    "\n",
    "zcrit = +/- 1.96\n",
    "\n",
    "\n",
    "Since z>zcrit, I accept the null hypothesis, there is no significant difference between the  survival rate of the complete dataset, and the  survival rate of the data with the missing values removed. Therefore removing the passengers with missing age data would not have significantly affected the survival rate I was examining, at alpha level 0.05.\n",
    "\n",
    "\n",
    "\n",
    " \n",
    "\n",
    "\n"
   ]
  },
  {
   "cell_type": "markdown",
   "metadata": {},
   "source": [
    "Sources: Stackoverflow.com, matplotlib.org, pandas.pydata.org"
   ]
  },
  {
   "cell_type": "code",
   "execution_count": null,
   "metadata": {
    "collapsed": true
   },
   "outputs": [],
   "source": []
  }
 ],
 "metadata": {
  "kernelspec": {
   "display_name": "Python 2",
   "language": "python",
   "name": "python2"
  },
  "language_info": {
   "codemirror_mode": {
    "name": "ipython",
    "version": 2
   },
   "file_extension": ".py",
   "mimetype": "text/x-python",
   "name": "python",
   "nbconvert_exporter": "python",
   "pygments_lexer": "ipython2",
   "version": "2.7.11"
  }
 },
 "nbformat": 4,
 "nbformat_minor": 0
}
